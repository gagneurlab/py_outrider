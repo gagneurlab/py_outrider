{
 "cells": [
  {
   "cell_type": "code",
   "execution_count": 35,
   "id": "decreased-research",
   "metadata": {},
   "outputs": [],
   "source": [
    "from py_outrider.utils.io import read_data\n",
    "from py_outrider.outrider import outrider\n",
    "\n",
    "import numpy as np"
   ]
  },
  {
   "cell_type": "markdown",
   "id": "closing-commons",
   "metadata": {},
   "source": [
    "### Create test AnnData object"
   ]
  },
  {
   "cell_type": "code",
   "execution_count": 38,
   "id": "fixed-occasions",
   "metadata": {},
   "outputs": [
    {
     "data": {
      "text/plain": [
       "AnnData object with n_obs × n_vars = 80 × 200\n",
       "    obs: 'sample_id', 'is_male', 'batch'"
      ]
     },
     "execution_count": 38,
     "metadata": {},
     "output_type": "execute_result"
    }
   ],
   "source": [
    "input_file = \"./tests/sample_gene.csv\"\n",
    "sa_file = \"./tests/sample_gene_sa.csv\"\n",
    "\n",
    "adata = read_data(input_file=input_file, sample_anno_file=sa_file, dtype=\"float64\")\n",
    "adata"
   ]
  },
  {
   "cell_type": "markdown",
   "id": "vertical-puppy",
   "metadata": {},
   "source": [
    "### Run py_outrider fit"
   ]
  },
  {
   "cell_type": "code",
   "execution_count": 37,
   "id": "induced-penetration",
   "metadata": {},
   "outputs": [
    {
     "name": "stdout",
     "output_type": "stream",
     "text": [
      "No physical GPUs detected\n",
      "### Tue Feb 23 10:56:06 2021   start model fitting\n",
      "### Tue Feb 23 10:56:06 2021   Initializing the encoder ...\n",
      "### Tue Feb 23 10:56:06 2021   Initializing the decoder ...\n",
      "### Tue Feb 23 10:56:06 2021   Initializing the dispersions ...\n",
      "### Tue Feb 23 10:56:07 2021   Initial - loss:             6.228293167500555\n",
      "### ITERATION 1\n",
      "### Tue Feb 23 10:56:12 2021   Encoder_AE - loss:          6.208080990914332\n",
      "### Tue Feb 23 10:56:21 2021   Decoder_AE - loss:          6.2063020407606695\n",
      "### Tue Feb 23 10:56:24 2021   Dispersions_ML - loss:      4.695783819235219\n",
      "duration loop: 00:00:16\n",
      "### ITERATION 2\n",
      "### Tue Feb 23 10:56:28 2021   Encoder_AE - loss:          4.63507768848833\n",
      "### Tue Feb 23 10:56:34 2021   Decoder_AE - loss:          4.60212966456495\n",
      "### Tue Feb 23 10:56:34 2021   Dispersions_ML - loss:      4.5492754961516635\n",
      "duration loop: 00:00:10\n",
      "### ITERATION 3\n",
      "### Tue Feb 23 10:56:38 2021   Encoder_AE - loss:          4.517478381912712\n",
      "### Tue Feb 23 10:56:44 2021   Decoder_AE - loss:          4.496980772317001\n",
      "### Tue Feb 23 10:56:44 2021   Dispersions_ML - loss:      4.486595944936645\n",
      "duration loop: 00:00:09\n",
      "### ITERATION 4\n",
      "### Tue Feb 23 10:56:48 2021   Encoder_AE - loss:          4.459809136800285\n",
      "### Tue Feb 23 10:56:54 2021   Decoder_AE - loss:          4.453903712019853\n",
      "### Tue Feb 23 10:56:54 2021   Dispersions_ML - loss:      4.4518510866915175\n",
      "duration loop: 00:00:09\n",
      "### ITERATION 5\n",
      "### Tue Feb 23 10:56:58 2021   Encoder_AE - loss:          4.447920246713602\n",
      "### Tue Feb 23 10:57:04 2021   Decoder_AE - loss:          4.446988847740245\n",
      "### Tue Feb 23 10:57:04 2021   Dispersions_ML - loss:      4.4467285914471155\n",
      "duration loop: 00:00:10\n",
      "### ITERATION 6\n",
      "### Tue Feb 23 10:57:08 2021   Encoder_AE - loss:          4.445477734417423\n",
      "### Tue Feb 23 10:57:14 2021   Decoder_AE - loss:          4.445228487787714\n",
      "### Tue Feb 23 10:57:15 2021   Dispersions_ML - loss:      4.445166204255117\n",
      "duration loop: 00:00:10\n",
      "### ITERATION 7\n",
      "### Tue Feb 23 10:57:19 2021   Encoder_AE - loss:          4.444829186337875\n",
      "### Tue Feb 23 10:57:25 2021   Decoder_AE - loss:          4.444791414095676\n",
      "### Tue Feb 23 10:57:25 2021   Dispersions_ML - loss:      4.444783625487152\n",
      "duration loop: 00:00:10\n",
      "### ITERATION 8\n",
      "### Tue Feb 23 10:57:29 2021   Encoder_AE - loss:          4.444595796712532\n",
      "### Tue Feb 23 10:57:34 2021   Decoder_AE - loss:          4.444578180741056\n",
      "### Tue Feb 23 10:57:35 2021   Dispersions_ML - loss:      4.4445760124411\n",
      "duration loop: 00:00:09\n",
      "### ITERATION 9\n",
      "### Tue Feb 23 10:57:38 2021   Encoder_AE - loss:          4.444464413761436\n",
      "### Tue Feb 23 10:57:44 2021   Decoder_AE - loss:          4.444456078672912\n",
      "### Tue Feb 23 10:57:44 2021   Dispersions_ML - loss:      4.444454226957278\n",
      "duration loop: 00:00:09\n",
      "### ITERATION 10\n",
      "### Tue Feb 23 10:57:48 2021   Encoder_AE - loss:          4.444381166149091\n",
      "### Tue Feb 23 10:57:54 2021   Decoder_AE - loss:          4.444376144258238\n",
      "### Tue Feb 23 10:57:54 2021   Dispersions_ML - loss:      4.444375147993047\n",
      "duration loop: 00:00:10\n",
      "### ITERATION 11\n",
      "### Tue Feb 23 10:57:58 2021   Encoder_AE - loss:          4.4443264826289095\n",
      "### Tue Feb 23 10:58:04 2021   Decoder_AE - loss:          4.444323544223653\n",
      "### Tue Feb 23 10:58:04 2021   Dispersions_ML - loss:      4.444322664676806\n",
      "duration loop: 00:00:09\n",
      "### ITERATION 12\n",
      "### Tue Feb 23 10:58:08 2021   Encoder_AE - loss:          4.444287765452705\n",
      "### Tue Feb 23 10:58:14 2021   Decoder_AE - loss:          4.444285578557555\n",
      "### Tue Feb 23 10:58:14 2021   Dispersions_ML - loss:      4.44428498556249\n",
      "duration loop: 00:00:10\n",
      "### ITERATION 13\n",
      "### Tue Feb 23 10:58:18 2021   Encoder_AE - loss:          4.444260309596768\n",
      "### Tue Feb 23 10:58:24 2021   Decoder_AE - loss:          4.444258978895761\n",
      "### Tue Feb 23 10:58:24 2021   Dispersions_ML - loss:      4.444258415749197\n",
      "duration loop: 00:00:10\n",
      "### ITERATION 14\n",
      "### Tue Feb 23 10:58:28 2021   Encoder_AE - loss:          4.44423970071083\n",
      "### Tue Feb 23 10:58:34 2021   Decoder_AE - loss:          4.444238578917837\n",
      "### Tue Feb 23 10:58:35 2021   Dispersions_ML - loss:      4.44423832915584\n",
      "duration loop: 00:00:10\n",
      "### ITERATION 15\n",
      "### Tue Feb 23 10:58:39 2021   Encoder_AE - loss:          4.4442245299304295\n",
      "### Tue Feb 23 10:58:45 2021   Decoder_AE - loss:          4.444223757794396\n",
      "### Tue Feb 23 10:58:45 2021   Dispersions_ML - loss:      4.44422366458694\n",
      "duration loop: 00:00:10\n",
      "### Tue Feb 23 10:58:45 2021   complete model fit time 00:02:39\n",
      "### Tue Feb 23 10:58:45 2021   model_fit ended with loss: 4.44422366458694\n",
      "### Tue Feb 23 10:58:45 2021   Calculating NB p values ...\n",
      "### Tue Feb 23 10:58:46 2021   Calculating adjusted p values ...\n",
      "### Tue Feb 23 10:58:46 2021   Calculating effect sizes ...\n",
      "### Tue Feb 23 10:58:46 2021   Detecting aberrant events ...\n"
     ]
    },
    {
     "data": {
      "text/plain": [
       "AnnData object with n_obs × n_vars = 80 × 200\n",
       "    obs: 'sample_id', 'is_male', 'batch'\n",
       "    uns: 'prepro_func_name', 'transform_func', 'X_AE_input', 'E', 'D', 'bias'\n",
       "    obsm: 'sizefactors', 'X_latent'\n",
       "    varm: 'means', 'dispersions'\n",
       "    layers: 'X_raw', 'X_prepro', 'X_sf_norm', 'X_transformed', 'X_predicted', 'X_predicted_no_trans', 'X_pvalue', 'X_padj', 'outrider_fc', 'outrider_l2fc', 'outrider_zscore', 'aberrant'"
      ]
     },
     "execution_count": 37,
     "metadata": {},
     "output_type": "execute_result"
    }
   ],
   "source": [
    "res = outrider(adata=adata, \n",
    "                   encod_dim=11,  \n",
    "                   prepro_func='none', # preprocessing options\n",
    "                   sf_norm=True, \n",
    "                   data_trans='log1p', \n",
    "                   centering=True,\n",
    "                   noise_factor=0.0,\n",
    "                   covariates=None,\n",
    "                   latent_space_model='AE', # model parameters\n",
    "                   decoder_model='AE',\n",
    "                   dispersion_model='ML',\n",
    "                   loss_distribution='NB',\n",
    "                   optimizer='lbfgs',\n",
    "                   parallelize_decoder_by_feature=True,\n",
    "                   batch_size=None,\n",
    "                   num_cpus=4,\n",
    "                   float_type=\"float64\",\n",
    "                   seed=7,\n",
    "                   iterations=15,     # training options\n",
    "                   convergence=1e-5, \n",
    "                   initialize=True, \n",
    "                   verbose=False,\n",
    "                   distribution='NB',  # outlier calling options\n",
    "                   fdr_method='fdr_by',\n",
    "                   effect_type=['fold_change', 'zscores'],\n",
    "                   alpha = 0.05,\n",
    "                   effect_cutoffs={})\n",
    "res"
   ]
  },
  {
   "cell_type": "code",
   "execution_count": 23,
   "id": "growing-hartford",
   "metadata": {},
   "outputs": [
    {
     "name": "stdout",
     "output_type": "stream",
     "text": [
      "min:  0 ; median:  0.0 ; max:  1\n"
     ]
    },
    {
     "data": {
      "text/plain": [
       "array([0, 0, 0, 1, 0, 0, 0, 0, 0, 0, 0, 0, 0, 0, 0, 0, 0, 0, 0, 0, 0, 1,\n",
       "       0, 0, 0, 0, 0, 0, 0, 0, 0, 0, 1, 0, 0, 0, 1, 1, 0, 0, 0, 0, 0, 1,\n",
       "       0, 0, 0, 0, 0, 0, 0, 0, 0, 0, 0, 0, 0, 0, 0, 0, 0, 0, 0, 0, 0, 0,\n",
       "       0, 0, 0, 0, 0, 1, 0, 0, 0, 0, 0, 0, 1, 0])"
      ]
     },
     "execution_count": 23,
     "metadata": {},
     "output_type": "execute_result"
    }
   ],
   "source": [
    "outliers_per_sample = np.sum(res.layers[\"aberrant\"], axis=1)\n",
    "print(\"min: \", np.min(outliers_per_sample), \"; median: \", np.median(outliers_per_sample), \"; max: \", np.max(outliers_per_sample))\n",
    "outliers_per_sample"
   ]
  }
 ],
 "metadata": {
  "kernelspec": {
   "display_name": "Python [conda env:anaconda-outrider2]",
   "language": "python",
   "name": "conda-env-anaconda-outrider2-py"
  },
  "language_info": {
   "codemirror_mode": {
    "name": "ipython",
    "version": 3
   },
   "file_extension": ".py",
   "mimetype": "text/x-python",
   "name": "python",
   "nbconvert_exporter": "python",
   "pygments_lexer": "ipython3",
   "version": "3.6.11"
  }
 },
 "nbformat": 4,
 "nbformat_minor": 5
}
